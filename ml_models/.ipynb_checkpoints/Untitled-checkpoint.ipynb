{
 "cells": [
  {
   "cell_type": "code",
   "execution_count": 23,
   "id": "0e14155d-c350-47b9-8efe-3dc54c4ebe5b",
   "metadata": {},
   "outputs": [
    {
     "name": "stdout",
     "output_type": "stream",
     "text": [
      "\n",
      "=== Phishing URLs Detected ===\n",
      "[Phishing] sontemeda.altervista.org/paypinoko/paypinoko/procesing.php\n",
      " -> Confidence: 0.99\n",
      "\n",
      "[Phishing] www.coincoele.com.br/Scripts/smiles/?pt-br/Paginas/default.aspx\n",
      " -> Confidence: 1.00\n",
      "\n",
      "[Phishing] myxxxcollection.com/v1/js/jih321/bpd.com.do/do/l.popular.php\n",
      " -> Confidence: 0.99\n",
      "\n",
      "[Phishing] www.aclaydance.com/ncpf.php\n",
      " -> Confidence: 0.97\n",
      "\n",
      "[Phishing] https://paypal.com.verify-account.fake.com\n",
      " -> Confidence: 0.98\n",
      "\n",
      "[Phishing] www.dghjdgf.com/paypal.co.uk/cycgi-bin/webscrcmd=_home-customer&nav=1/loading.php\n",
      " -> Confidence: 0.97\n",
      "\n",
      "[Phishing] https://www.google.com\n",
      " -> Confidence: 0.89\n",
      "\n",
      "[Phishing] https://www.wikipedia.org\n",
      " -> Confidence: 0.74\n",
      "\n",
      "[Phishing] https://www.amazon.com\n",
      " -> Confidence: 0.89\n",
      "\n",
      "[Phishing] https://www.microsoft.com\n",
      " -> Confidence: 0.74\n",
      "\n",
      "\n",
      "=== Safe URLs Detected ===\n"
     ]
    }
   ],
   "source": [
    "!python test_predict.py\n"
   ]
  },
  {
   "cell_type": "code",
   "execution_count": null,
   "id": "311c8cbd-7c85-424e-9dd2-3b55666dd444",
   "metadata": {},
   "outputs": [],
   "source": []
  }
 ],
 "metadata": {
  "kernelspec": {
   "display_name": "Python 3 (ipykernel)",
   "language": "python",
   "name": "python3"
  },
  "language_info": {
   "codemirror_mode": {
    "name": "ipython",
    "version": 3
   },
   "file_extension": ".py",
   "mimetype": "text/x-python",
   "name": "python",
   "nbconvert_exporter": "python",
   "pygments_lexer": "ipython3",
   "version": "3.13.6"
  }
 },
 "nbformat": 4,
 "nbformat_minor": 5
}
