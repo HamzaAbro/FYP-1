{
 "cells": [
  {
   "cell_type": "code",
   "execution_count": 5,
   "id": "0e14155d-c350-47b9-8efe-3dc54c4ebe5b",
   "metadata": {},
   "outputs": [
    {
     "name": "stdout",
     "output_type": "stream",
     "text": [
      "\n",
      "=== Model Comparison Results ===\n",
      "\n",
      "                                                                              URL Logistic Regression   Random Forest         XGBoost\n",
      "                       sontemeda.altervista.org/paypinoko/paypinoko/procesing.php     Phishing (0.66) Phishing (0.71) Phishing (0.99)\n",
      "                  www.coincoele.com.br/Scripts/smiles/?pt-br/Paginas/default.aspx     Phishing (0.71) Phishing (0.94) Phishing (1.00)\n",
      "                                                      www.aclaydance.com/ncpf.php         Safe (0.44) Phishing (0.75) Phishing (0.97)\n",
      "                                       https://paypal.com.verify-account.fake.com     Phishing (0.96) Phishing (0.90) Phishing (0.98)\n",
      "www.dghjdgf.com/paypal.co.uk/cycgi-bin/webscrcmd=_home-customer&nav=1/loading.php     Phishing (0.59) Phishing (0.68) Phishing (0.97)\n",
      "                                                           https://www.google.com     Phishing (0.54) Phishing (0.84) Phishing (0.89)\n",
      "                                                        https://www.wikipedia.org     Phishing (0.62) Phishing (0.80) Phishing (0.74)\n",
      "                                                           https://www.amazon.com     Phishing (0.54) Phishing (0.84) Phishing (0.89)\n",
      "                                                        https://www.microsoft.com     Phishing (0.62) Phishing (0.80) Phishing (0.74)\n",
      "                                                           https://www.google.com     Phishing (0.54) Phishing (0.84) Phishing (0.89)\n",
      "                                                          https://mail.google.com     Phishing (0.57) Phishing (0.89) Phishing (0.88)\n",
      "                                                          https://docs.google.com     Phishing (0.57) Phishing (0.89) Phishing (0.88)\n",
      "                                                         https://drive.google.com     Phishing (0.60) Phishing (0.81) Phishing (0.80)\n",
      "                                                        https://www.microsoft.com     Phishing (0.62) Phishing (0.80) Phishing (0.74)\n",
      "                                                https://login.microsoftonline.com     Phishing (0.80) Phishing (0.86) Phishing (0.92)\n",
      "                                                       https://outlook.office.com     Phishing (0.65) Phishing (0.87) Phishing (0.88)\n",
      "                                                         https://www.facebook.com     Phishing (0.60) Phishing (0.81) Phishing (0.80)\n",
      "                                                           https://m.facebook.com     Phishing (0.54) Phishing (0.84) Phishing (0.89)\n",
      "                                                  https://developers.facebook.com     Phishing (0.76) Phishing (0.81) Phishing (0.85)\n",
      "                                                            https://www.apple.com     Phishing (0.52) Phishing (0.80) Phishing (0.86)\n",
      "                                                        https://support.apple.com     Phishing (0.62) Phishing (0.80) Phishing (0.74)\n",
      "                                                           https://www.amazon.com     Phishing (0.54) Phishing (0.84) Phishing (0.89)\n",
      "                                                           https://aws.amazon.com     Phishing (0.54) Phishing (0.84) Phishing (0.89)\n",
      "                                                          https://www.netflix.com     Phishing (0.57) Phishing (0.89) Phishing (0.88)\n",
      "                                                     https://accounts.spotify.com     Phishing (0.70) Phishing (0.81) Phishing (0.81)\n",
      "                                                         https://www.linkedin.com     Phishing (0.60) Phishing (0.81) Phishing (0.80)\n",
      "                                                     https://www.researchgate.net     Phishing (0.70) Phishing (0.81) Phishing (0.81)\n",
      "                                                          https://www.dropbox.com     Phishing (0.57) Phishing (0.89) Phishing (0.88)\n",
      "                                                           https://www.paypal.com     Phishing (0.54) Phishing (0.84) Phishing (0.89)\n"
     ]
    }
   ],
   "source": [
    "!python test_predict.py\n"
   ]
  },
  {
   "cell_type": "code",
   "execution_count": null,
   "id": "311c8cbd-7c85-424e-9dd2-3b55666dd444",
   "metadata": {},
   "outputs": [],
   "source": []
  }
 ],
 "metadata": {
  "kernelspec": {
   "display_name": "Python 3 (ipykernel)",
   "language": "python",
   "name": "python3"
  },
  "language_info": {
   "codemirror_mode": {
    "name": "ipython",
    "version": 3
   },
   "file_extension": ".py",
   "mimetype": "text/x-python",
   "name": "python",
   "nbconvert_exporter": "python",
   "pygments_lexer": "ipython3",
   "version": "3.13.6"
  }
 },
 "nbformat": 4,
 "nbformat_minor": 5
}
